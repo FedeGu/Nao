{
 "cells": [
  {
   "cell_type": "code",
   "execution_count": 1,
   "id": "2d5fc06c",
   "metadata": {},
   "outputs": [
    {
     "name": "stdout",
     "output_type": "stream",
     "text": [
      "Index(['texto', 'usuario', 'hashtags', 'fecha', 'retweets', 'favoritos'], dtype='object')\n"
     ]
    }
   ],
   "source": [
    "%store -r tweeters\n",
    "print(tweeters.columns)\n",
    "#Primero volvemos a importar el dataframe obtenido anteriormente"
   ]
  },
  {
   "cell_type": "code",
   "execution_count": 3,
   "id": "2fc8211e",
   "metadata": {
    "collapsed": true
   },
   "outputs": [
    {
     "name": "stdout",
     "output_type": "stream",
     "text": [
      "Requirement already satisfied: textblob in c:\\users\\fgurr\\anaconda3\\lib\\site-packages (0.17.1)\n",
      "Requirement already satisfied: nltk>=3.1 in c:\\users\\fgurr\\anaconda3\\lib\\site-packages (from textblob) (3.6.5)\n",
      "Requirement already satisfied: click in c:\\users\\fgurr\\anaconda3\\lib\\site-packages (from nltk>=3.1->textblob) (8.0.3)\n",
      "Requirement already satisfied: joblib in c:\\users\\fgurr\\anaconda3\\lib\\site-packages (from nltk>=3.1->textblob) (1.1.0)\n",
      "Requirement already satisfied: regex>=2021.8.3 in c:\\users\\fgurr\\anaconda3\\lib\\site-packages (from nltk>=3.1->textblob) (2021.8.3)\n",
      "Requirement already satisfied: tqdm in c:\\users\\fgurr\\anaconda3\\lib\\site-packages (from nltk>=3.1->textblob) (4.62.3)\n",
      "Requirement already satisfied: colorama in c:\\users\\fgurr\\anaconda3\\lib\\site-packages (from click->nltk>=3.1->textblob) (0.4.4)\n",
      "Note: you may need to restart the kernel to use updated packages.\n"
     ]
    }
   ],
   "source": [
    "pip install textblob\n",
    "# Instalamos la librería elegida para analizar las emociones en los textos de los tweets obtenidos."
   ]
  },
  {
   "cell_type": "code",
   "execution_count": 4,
   "id": "6d960c72",
   "metadata": {},
   "outputs": [],
   "source": [
    "from textblob import TextBlob"
   ]
  },
  {
   "cell_type": "code",
   "execution_count": 5,
   "id": "4c3b170f",
   "metadata": {},
   "outputs": [],
   "source": [
    "for index, row in tweeters.iterrows():\n",
    "    texto = row['texto']\n",
    "    analysis = TextBlob(texto)\n",
    "    \n",
    "    # Asigna directamente el valor del sentimiento a la columna 'sentimiento'\n",
    "    tweeters.at[index, 'sentimiento'] = analysis.sentiment.polarity"
   ]
  },
  {
   "cell_type": "code",
   "execution_count": 6,
   "id": "432f89b6",
   "metadata": {
    "collapsed": true
   },
   "outputs": [
    {
     "name": "stdout",
     "output_type": "stream",
     "text": [
      "id\n",
      "1     0.0\n",
      "2     0.0\n",
      "3    -0.6\n",
      "4     0.0\n",
      "5     0.0\n",
      "6     0.2\n",
      "7     0.0\n",
      "8     0.0\n",
      "9     0.0\n",
      "10    0.0\n",
      "11    0.0\n",
      "12    0.0\n",
      "13    0.0\n",
      "14    0.0\n",
      "15   -0.6\n",
      "16    0.0\n",
      "17    0.0\n",
      "18    0.4\n",
      "19    0.0\n",
      "20    0.0\n",
      "21    0.0\n",
      "22    0.0\n",
      "23    0.0\n",
      "24   -0.6\n",
      "25    0.0\n",
      "Name: sentimiento, dtype: float64\n"
     ]
    }
   ],
   "source": [
    "print(tweeters.sentimiento)"
   ]
  },
  {
   "cell_type": "code",
   "execution_count": 10,
   "id": "fab594c6",
   "metadata": {},
   "outputs": [],
   "source": [
    "import matplotlib.pyplot as plt\n",
    "import pandas as pd\n",
    "# Importamos ahora las librerías necesarias para manipular el DataFrame y graficar de la manera más precisa posible el análisis de los datos obtenidos."
   ]
  },
  {
   "cell_type": "code",
   "execution_count": 11,
   "id": "41230abc",
   "metadata": {},
   "outputs": [],
   "source": [
    "tweeters['sentimiento'] = pd.cut(tweeters['sentimiento'], bins=[-1, -0.1, 0.1, 1], labels=['Negativo', 'Neutral', 'Positivo'])"
   ]
  },
  {
   "cell_type": "code",
   "execution_count": 12,
   "id": "838813ec",
   "metadata": {},
   "outputs": [],
   "source": [
    "conteo_emociones = tweeters['sentimiento'].value_counts()"
   ]
  },
  {
   "cell_type": "code",
   "execution_count": 13,
   "id": "4cbeaf94",
   "metadata": {
    "scrolled": true
   },
   "outputs": [
    {
     "data": {
      "image/png": "[encoded data removed]",
      "text/plain": [
       "<Figure size 432x288 with 1 Axes>"
      ]
     },
     "metadata": {
      "needs_background": "light"
     },
     "output_type": "display_data"
    }
   ],
   "source": [
    "conteo_emociones.plot(kind='bar', color=['gray', 'red', 'green'])\n",
    "plt.xlabel('Emoción')\n",
    "plt.ylabel('Cantidad')\n",
    "plt.title('Distribución de Emociones en Tweets')\n",
    "plt.show()"
   ]
  },
  {
   "cell_type": "markdown",
   "id": "bdce41a3",
   "metadata": {},
   "source": [
    "Análisis final de los datos presentes en emociones de Twitter:\n",
    "\n",
    "El análisis detallado de los datos emocionales recopilados en Twitter revela un panorama interesante en términos de las reacciones de los usuarios. La mayoría de los comentarios, un 68%, se caracterizan por una posición neutral (con una polaridad de 0.0), indicando una presencia notable de opiniones equilibradas y observaciones informativas.\n",
    "\n",
    "Además, un 16% de los comentarios se clasifican como negativos, sugiriendo la existencia de percepciones críticas o desfavorables dentro de la plataforma. Por otro lado, un porcentaje igual, el 16%, se compone de comentarios positivos, lo que refleja una proporción apreciable de expresiones optimistas y favorables.\n",
    "\n",
    "Estos hallazgos subrayan la diversidad de emociones y opiniones expresadas en Twitter, donde la neutralidad predomina, pero coexiste con voces tanto negativas como positivas. La plataforma sirve como un espacio dinámico donde los usuarios comparten una amplia gama de perspectivas, contribuyendo a una experiencia rica y matizada."
   ]
  }
 ],
 "metadata": {
  "kernelspec": {
   "display_name": "Python 3 (ipykernel)",
   "language": "python",
   "name": "python3"
  },
  "language_info": {
   "codemirror_mode": {
    "name": "ipython",
    "version": 3
   },
   "file_extension": ".py",
   "mimetype": "text/x-python",
   "name": "python",
   "nbconvert_exporter": "python",
   "pygments_lexer": "ipython3",
   "version": "3.9.7"
  }
 },
 "nbformat": 4,
 "nbformat_minor": 5
}
